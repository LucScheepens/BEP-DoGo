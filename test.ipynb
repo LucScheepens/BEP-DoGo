{
 "cells": [
  {
   "cell_type": "code",
   "execution_count": 41,
   "metadata": {},
   "outputs": [],
   "source": [
    "import torch\n",
    "from torchvision.datasets import CIFAR10, CIFAR100, STL10, ImageFolder\n",
    "from augmentations import SimCLRTransform, SimSiamTransform\n",
    "\n",
    "from torch.utils.data import DataLoader\n"
   ]
  },
  {
   "cell_type": "code",
   "execution_count": 42,
   "metadata": {},
   "outputs": [
    {
     "data": {
      "text/plain": [
       "True"
      ]
     },
     "execution_count": 42,
     "metadata": {},
     "output_type": "execute_result"
    }
   ],
   "source": [
    "torch.cuda.is_available()"
   ]
  },
  {
   "cell_type": "code",
   "execution_count": 43,
   "metadata": {},
   "outputs": [],
   "source": [
    "import os\n",
    "import re\n",
    "\n",
    "regex = re.compile('Loss: ([0-9]*.[0-9]*)')\n",
    "regex2 = re.compile('Epoch ([0-9]*)')\n",
    "\n",
    "location = \"/Users/Luctopikut/bep/BEP-DoGo/data/output/luc/\"\n",
    "# location = './data/output/luc'\n",
    "file_name ='train_cifar10.log'\n",
    "\n",
    "def get_loss(location, file_name):\n",
    "    result = dict()\n",
    "    counter =0\n",
    "    for filename in os.listdir(location):\n",
    "        if filename == file_name:\n",
    "            with open(os.path.join(location, file_name), \"r\") as file:\n",
    "                \n",
    "                for line in file:\n",
    "                    if 'Epoch [' in line:\n",
    "                        if 'Loss:' in line:\n",
    "                            counter +=1\n",
    "                            result[counter] = regex.findall(line)[0]\n",
    "    return result\n",
    "\n",
    "results = get_loss(location, file_name)"
   ]
  },
  {
   "cell_type": "code",
   "execution_count": 44,
   "metadata": {},
   "outputs": [
    {
     "data": {
      "text/plain": [
       "{1: '0.8085398039814219',\n",
       " 2: '0.6031583615814347',\n",
       " 3: '0.57363679892866',\n",
       " 4: '0.557368598541761',\n",
       " 5: '0.5470239107598023',\n",
       " 6: '0.5384301504636385',\n",
       " 7: '0.5313324332686074',\n",
       " 8: '0.5258952523301165',\n",
       " 9: '0.5216031613120113',\n",
       " 10: '0.5169989917741482',\n",
       " 11: '0.5130166432494858',\n",
       " 12: '0.5096689833619867',\n",
       " 13: '0.5058405970234469',\n",
       " 14: '0.5031225805630885',\n",
       " 15: '0.5004946865500456',\n",
       " 16: '0.4986368755933391',\n",
       " 17: '0.49505706995456333',\n",
       " 18: '0.49274758590632173',\n",
       " 19: '0.49128850688596803',\n",
       " 20: '0.4893899194626923',\n",
       " 21: '0.48709229790571945',\n",
       " 22: '0.48565842507474394',\n",
       " 23: '0.483964079901217',\n",
       " 24: '0.4819037293544017',\n",
       " 25: '0.48047962829650165',\n",
       " 26: '0.4791675073330302',\n",
       " 27: '0.4780332723250949',\n",
       " 28: '0.4761667682015034',\n",
       " 29: '0.4742799716586449',\n",
       " 30: '0.47349622493318044',\n",
       " 31: '0.47236064363674946',\n",
       " 32: '0.4709144782005663',\n",
       " 33: '0.4704091947480857',\n",
       " 34: '0.4688941843538399',\n",
       " 35: '0.4681346240756382',\n",
       " 36: '0.46697469098291483',\n",
       " 37: '0.46612209925450476',\n",
       " 38: '0.46526340799159316',\n",
       " 39: '0.46380055484821997',\n",
       " 40: '0.4629860248820609',\n",
       " 41: '0.4620394650622305',\n",
       " 42: '0.46041547538465766',\n",
       " 43: '0.46069966335163776',\n",
       " 44: '0.459480815757829',\n",
       " 45: '0.45902444707252177',\n",
       " 46: '0.45831511636455374',\n",
       " 47: '0.4573831940182002',\n",
       " 48: '0.4570609416633126',\n",
       " 49: '0.45592743221176674',\n",
       " 50: '0.4554135280111468',\n",
       " 51: '0.4541810502309397',\n",
       " 52: '0.45430303205657435',\n",
       " 53: '0.45350250431213035',\n",
       " 54: '0.45265310760363037',\n",
       " 55: '0.4522195051996464',\n",
       " 56: '0.45150347704808397',\n",
       " 57: '0.45071680067353936',\n",
       " 58: '0.44992853795368987',\n",
       " 59: '0.4494711695216506',\n",
       " 60: '0.44948023111076957',\n",
       " 61: '0.4485965878309974',\n",
       " 62: '0.4481423448277525',\n",
       " 63: '0.44730157239070856',\n",
       " 64: '0.4475132225373064',\n",
       " 65: '0.44620974303548594',\n",
       " 66: '0.44623889302812425',\n",
       " 67: '0.44579510105751363',\n",
       " 68: '0.44539853380656386',\n",
       " 69: '0.4449666693851531',\n",
       " 70: '0.44413025479718865',\n",
       " 71: '0.4432008474032922',\n",
       " 72: '0.4432243715792176',\n",
       " 73: '0.44295802730393696',\n",
       " 74: '0.44226744373789034',\n",
       " 75: '0.4424931161689112',\n",
       " 76: '0.44157377204083537',\n",
       " 77: '0.44176447241151906',\n",
       " 78: '0.4412531376513372',\n",
       " 79: '0.4407397324825267',\n",
       " 80: '0.43984249579798745',\n",
       " 81: '0.43999632975333425',\n",
       " 82: '0.4394899999879929',\n",
       " 83: '0.4391716151801218',\n",
       " 84: '0.43828034804887084',\n",
       " 85: '0.4382004206663514',\n",
       " 86: '0.43786915667714127',\n",
       " 87: '0.43703143615051204',\n",
       " 88: '0.43701683783746625',\n",
       " 89: '0.4369422986609749',\n",
       " 90: '0.4364024413502719',\n",
       " 91: '0.435836918270552',\n",
       " 92: '0.4358244039881301',\n",
       " 93: '0.43529720642570274',\n",
       " 94: '0.43550312305879163',\n",
       " 95: '0.43511607356549026',\n",
       " 96: '0.43475165824035567',\n",
       " 97: '0.4343555891908795',\n",
       " 98: '0.4338495803166585',\n",
       " 99: '0.43366760538374804',\n",
       " 100: '0.43370242598634884'}"
      ]
     },
     "execution_count": 44,
     "metadata": {},
     "output_type": "execute_result"
    }
   ],
   "source": [
    "results"
   ]
  },
  {
   "cell_type": "code",
   "execution_count": 45,
   "metadata": {},
   "outputs": [],
   "source": [
    "import matplotlib.pyplot as plt\n",
    "\n",
    "# x, y = zip(*results.items()) # unpack a list of pairs into two tuples\n",
    "\n",
    "\n",
    "# plt.plot(x,y.astype(int))\n",
    "# plt.show()"
   ]
  },
  {
   "cell_type": "code",
   "execution_count": 46,
   "metadata": {},
   "outputs": [],
   "source": [
    "import pandas as pd\n",
    "df = pd.DataFrame(results.items())"
   ]
  },
  {
   "cell_type": "code",
   "execution_count": 47,
   "metadata": {},
   "outputs": [],
   "source": [
    "df.rename(columns={0:'x', 1:'y'}, inplace=True)\n"
   ]
  },
  {
   "cell_type": "code",
   "execution_count": 48,
   "metadata": {},
   "outputs": [
    {
     "data": {
      "text/plain": [
       "Index(['x', 'y'], dtype='object')"
      ]
     },
     "execution_count": 48,
     "metadata": {},
     "output_type": "execute_result"
    }
   ],
   "source": [
    "df.columns"
   ]
  },
  {
   "cell_type": "code",
   "execution_count": 49,
   "metadata": {},
   "outputs": [],
   "source": [
    "df['y'] = pd.to_numeric(df['y'])\n",
    "# "
   ]
  },
  {
   "cell_type": "code",
   "execution_count": 50,
   "metadata": {},
   "outputs": [],
   "source": [
    "# [tensor(50., device='cuda:0'), tensor(33.3333, device='cuda:0'), tensor(50., device='cuda:0'), tensor(16.6667, device='cuda:0'), tensor(0., device='cuda:0'), tensor(42.8571, device='cuda:0'), tensor(72.7273, device='cuda:0'), tensor(14.2857, device='cuda:0'), tensor(85.7143, device='cuda:0'), tensor(88.8889, device='cuda:0')]"
   ]
  },
  {
   "cell_type": "code",
   "execution_count": 51,
   "metadata": {},
   "outputs": [],
   "source": [
    "# plt.plot(y, data=df)"
   ]
  },
  {
   "cell_type": "code",
   "execution_count": 52,
   "metadata": {},
   "outputs": [],
   "source": [
    "import plotly.express as px"
   ]
  },
  {
   "cell_type": "code",
   "execution_count": 53,
   "metadata": {},
   "outputs": [
    {
     "data": {
      "application/vnd.plotly.v1+json": {
       "config": {
        "plotlyServerURL": "https://plot.ly"
       },
       "data": [
        {
         "hovertemplate": "x=%{x}<br>y=%{y}<extra></extra>",
         "legendgroup": "",
         "line": {
          "color": "#636efa",
          "dash": "solid"
         },
         "marker": {
          "symbol": "circle"
         },
         "mode": "lines",
         "name": "",
         "orientation": "v",
         "showlegend": false,
         "type": "scatter",
         "x": [
          1,
          2,
          3,
          4,
          5,
          6,
          7,
          8,
          9,
          10,
          11,
          12,
          13,
          14,
          15,
          16,
          17,
          18,
          19,
          20,
          21,
          22,
          23,
          24,
          25,
          26,
          27,
          28,
          29,
          30,
          31,
          32,
          33,
          34,
          35,
          36,
          37,
          38,
          39,
          40,
          41,
          42,
          43,
          44,
          45,
          46,
          47,
          48,
          49,
          50,
          51,
          52,
          53,
          54,
          55,
          56,
          57,
          58,
          59,
          60,
          61,
          62,
          63,
          64,
          65,
          66,
          67,
          68,
          69,
          70,
          71,
          72,
          73,
          74,
          75,
          76,
          77,
          78,
          79,
          80,
          81,
          82,
          83,
          84,
          85,
          86,
          87,
          88,
          89,
          90,
          91,
          92,
          93,
          94,
          95,
          96,
          97,
          98,
          99,
          100
         ],
         "xaxis": "x",
         "y": [
          0.8085398039814219,
          0.6031583615814347,
          0.57363679892866,
          0.557368598541761,
          0.5470239107598023,
          0.5384301504636385,
          0.5313324332686074,
          0.5258952523301165,
          0.5216031613120113,
          0.5169989917741482,
          0.5130166432494858,
          0.5096689833619867,
          0.5058405970234469,
          0.5031225805630885,
          0.5004946865500456,
          0.4986368755933391,
          0.4950570699545633,
          0.4927475859063217,
          0.491288506885968,
          0.4893899194626923,
          0.4870922979057194,
          0.4856584250747439,
          0.483964079901217,
          0.4819037293544017,
          0.4804796282965016,
          0.4791675073330302,
          0.4780332723250949,
          0.4761667682015034,
          0.4742799716586449,
          0.4734962249331804,
          0.4723606436367494,
          0.4709144782005663,
          0.4704091947480857,
          0.4688941843538399,
          0.4681346240756382,
          0.4669746909829148,
          0.4661220992545047,
          0.4652634079915931,
          0.4638005548482199,
          0.4629860248820609,
          0.4620394650622305,
          0.4604154753846576,
          0.4606996633516377,
          0.459480815757829,
          0.4590244470725217,
          0.4583151163645537,
          0.4573831940182002,
          0.4570609416633126,
          0.4559274322117667,
          0.4554135280111468,
          0.4541810502309397,
          0.4543030320565743,
          0.4535025043121303,
          0.4526531076036303,
          0.4522195051996464,
          0.4515034770480839,
          0.4507168006735393,
          0.4499285379536898,
          0.4494711695216506,
          0.4494802311107695,
          0.4485965878309974,
          0.4481423448277525,
          0.4473015723907085,
          0.4475132225373064,
          0.4462097430354859,
          0.4462388930281242,
          0.4457951010575136,
          0.4453985338065638,
          0.4449666693851531,
          0.4441302547971886,
          0.4432008474032922,
          0.4432243715792176,
          0.4429580273039369,
          0.4422674437378903,
          0.4424931161689112,
          0.4415737720408353,
          0.441764472411519,
          0.4412531376513372,
          0.4407397324825267,
          0.4398424957979874,
          0.4399963297533342,
          0.4394899999879929,
          0.4391716151801218,
          0.4382803480488708,
          0.4382004206663514,
          0.4378691566771412,
          0.437031436150512,
          0.4370168378374662,
          0.4369422986609749,
          0.4364024413502719,
          0.435836918270552,
          0.4358244039881301,
          0.4352972064257027,
          0.4355031230587916,
          0.4351160735654902,
          0.4347516582403556,
          0.4343555891908795,
          0.4338495803166585,
          0.433667605383748,
          0.4337024259863488
         ],
         "yaxis": "y"
        }
       ],
       "layout": {
        "legend": {
         "tracegroupgap": 0
        },
        "template": {
         "data": {
          "bar": [
           {
            "error_x": {
             "color": "#2a3f5f"
            },
            "error_y": {
             "color": "#2a3f5f"
            },
            "marker": {
             "line": {
              "color": "#E5ECF6",
              "width": 0.5
             },
             "pattern": {
              "fillmode": "overlay",
              "size": 10,
              "solidity": 0.2
             }
            },
            "type": "bar"
           }
          ],
          "barpolar": [
           {
            "marker": {
             "line": {
              "color": "#E5ECF6",
              "width": 0.5
             },
             "pattern": {
              "fillmode": "overlay",
              "size": 10,
              "solidity": 0.2
             }
            },
            "type": "barpolar"
           }
          ],
          "carpet": [
           {
            "aaxis": {
             "endlinecolor": "#2a3f5f",
             "gridcolor": "white",
             "linecolor": "white",
             "minorgridcolor": "white",
             "startlinecolor": "#2a3f5f"
            },
            "baxis": {
             "endlinecolor": "#2a3f5f",
             "gridcolor": "white",
             "linecolor": "white",
             "minorgridcolor": "white",
             "startlinecolor": "#2a3f5f"
            },
            "type": "carpet"
           }
          ],
          "choropleth": [
           {
            "colorbar": {
             "outlinewidth": 0,
             "ticks": ""
            },
            "type": "choropleth"
           }
          ],
          "contour": [
           {
            "colorbar": {
             "outlinewidth": 0,
             "ticks": ""
            },
            "colorscale": [
             [
              0,
              "#0d0887"
             ],
             [
              0.1111111111111111,
              "#46039f"
             ],
             [
              0.2222222222222222,
              "#7201a8"
             ],
             [
              0.3333333333333333,
              "#9c179e"
             ],
             [
              0.4444444444444444,
              "#bd3786"
             ],
             [
              0.5555555555555556,
              "#d8576b"
             ],
             [
              0.6666666666666666,
              "#ed7953"
             ],
             [
              0.7777777777777778,
              "#fb9f3a"
             ],
             [
              0.8888888888888888,
              "#fdca26"
             ],
             [
              1,
              "#f0f921"
             ]
            ],
            "type": "contour"
           }
          ],
          "contourcarpet": [
           {
            "colorbar": {
             "outlinewidth": 0,
             "ticks": ""
            },
            "type": "contourcarpet"
           }
          ],
          "heatmap": [
           {
            "colorbar": {
             "outlinewidth": 0,
             "ticks": ""
            },
            "colorscale": [
             [
              0,
              "#0d0887"
             ],
             [
              0.1111111111111111,
              "#46039f"
             ],
             [
              0.2222222222222222,
              "#7201a8"
             ],
             [
              0.3333333333333333,
              "#9c179e"
             ],
             [
              0.4444444444444444,
              "#bd3786"
             ],
             [
              0.5555555555555556,
              "#d8576b"
             ],
             [
              0.6666666666666666,
              "#ed7953"
             ],
             [
              0.7777777777777778,
              "#fb9f3a"
             ],
             [
              0.8888888888888888,
              "#fdca26"
             ],
             [
              1,
              "#f0f921"
             ]
            ],
            "type": "heatmap"
           }
          ],
          "heatmapgl": [
           {
            "colorbar": {
             "outlinewidth": 0,
             "ticks": ""
            },
            "colorscale": [
             [
              0,
              "#0d0887"
             ],
             [
              0.1111111111111111,
              "#46039f"
             ],
             [
              0.2222222222222222,
              "#7201a8"
             ],
             [
              0.3333333333333333,
              "#9c179e"
             ],
             [
              0.4444444444444444,
              "#bd3786"
             ],
             [
              0.5555555555555556,
              "#d8576b"
             ],
             [
              0.6666666666666666,
              "#ed7953"
             ],
             [
              0.7777777777777778,
              "#fb9f3a"
             ],
             [
              0.8888888888888888,
              "#fdca26"
             ],
             [
              1,
              "#f0f921"
             ]
            ],
            "type": "heatmapgl"
           }
          ],
          "histogram": [
           {
            "marker": {
             "pattern": {
              "fillmode": "overlay",
              "size": 10,
              "solidity": 0.2
             }
            },
            "type": "histogram"
           }
          ],
          "histogram2d": [
           {
            "colorbar": {
             "outlinewidth": 0,
             "ticks": ""
            },
            "colorscale": [
             [
              0,
              "#0d0887"
             ],
             [
              0.1111111111111111,
              "#46039f"
             ],
             [
              0.2222222222222222,
              "#7201a8"
             ],
             [
              0.3333333333333333,
              "#9c179e"
             ],
             [
              0.4444444444444444,
              "#bd3786"
             ],
             [
              0.5555555555555556,
              "#d8576b"
             ],
             [
              0.6666666666666666,
              "#ed7953"
             ],
             [
              0.7777777777777778,
              "#fb9f3a"
             ],
             [
              0.8888888888888888,
              "#fdca26"
             ],
             [
              1,
              "#f0f921"
             ]
            ],
            "type": "histogram2d"
           }
          ],
          "histogram2dcontour": [
           {
            "colorbar": {
             "outlinewidth": 0,
             "ticks": ""
            },
            "colorscale": [
             [
              0,
              "#0d0887"
             ],
             [
              0.1111111111111111,
              "#46039f"
             ],
             [
              0.2222222222222222,
              "#7201a8"
             ],
             [
              0.3333333333333333,
              "#9c179e"
             ],
             [
              0.4444444444444444,
              "#bd3786"
             ],
             [
              0.5555555555555556,
              "#d8576b"
             ],
             [
              0.6666666666666666,
              "#ed7953"
             ],
             [
              0.7777777777777778,
              "#fb9f3a"
             ],
             [
              0.8888888888888888,
              "#fdca26"
             ],
             [
              1,
              "#f0f921"
             ]
            ],
            "type": "histogram2dcontour"
           }
          ],
          "mesh3d": [
           {
            "colorbar": {
             "outlinewidth": 0,
             "ticks": ""
            },
            "type": "mesh3d"
           }
          ],
          "parcoords": [
           {
            "line": {
             "colorbar": {
              "outlinewidth": 0,
              "ticks": ""
             }
            },
            "type": "parcoords"
           }
          ],
          "pie": [
           {
            "automargin": true,
            "type": "pie"
           }
          ],
          "scatter": [
           {
            "fillpattern": {
             "fillmode": "overlay",
             "size": 10,
             "solidity": 0.2
            },
            "type": "scatter"
           }
          ],
          "scatter3d": [
           {
            "line": {
             "colorbar": {
              "outlinewidth": 0,
              "ticks": ""
             }
            },
            "marker": {
             "colorbar": {
              "outlinewidth": 0,
              "ticks": ""
             }
            },
            "type": "scatter3d"
           }
          ],
          "scattercarpet": [
           {
            "marker": {
             "colorbar": {
              "outlinewidth": 0,
              "ticks": ""
             }
            },
            "type": "scattercarpet"
           }
          ],
          "scattergeo": [
           {
            "marker": {
             "colorbar": {
              "outlinewidth": 0,
              "ticks": ""
             }
            },
            "type": "scattergeo"
           }
          ],
          "scattergl": [
           {
            "marker": {
             "colorbar": {
              "outlinewidth": 0,
              "ticks": ""
             }
            },
            "type": "scattergl"
           }
          ],
          "scattermapbox": [
           {
            "marker": {
             "colorbar": {
              "outlinewidth": 0,
              "ticks": ""
             }
            },
            "type": "scattermapbox"
           }
          ],
          "scatterpolar": [
           {
            "marker": {
             "colorbar": {
              "outlinewidth": 0,
              "ticks": ""
             }
            },
            "type": "scatterpolar"
           }
          ],
          "scatterpolargl": [
           {
            "marker": {
             "colorbar": {
              "outlinewidth": 0,
              "ticks": ""
             }
            },
            "type": "scatterpolargl"
           }
          ],
          "scatterternary": [
           {
            "marker": {
             "colorbar": {
              "outlinewidth": 0,
              "ticks": ""
             }
            },
            "type": "scatterternary"
           }
          ],
          "surface": [
           {
            "colorbar": {
             "outlinewidth": 0,
             "ticks": ""
            },
            "colorscale": [
             [
              0,
              "#0d0887"
             ],
             [
              0.1111111111111111,
              "#46039f"
             ],
             [
              0.2222222222222222,
              "#7201a8"
             ],
             [
              0.3333333333333333,
              "#9c179e"
             ],
             [
              0.4444444444444444,
              "#bd3786"
             ],
             [
              0.5555555555555556,
              "#d8576b"
             ],
             [
              0.6666666666666666,
              "#ed7953"
             ],
             [
              0.7777777777777778,
              "#fb9f3a"
             ],
             [
              0.8888888888888888,
              "#fdca26"
             ],
             [
              1,
              "#f0f921"
             ]
            ],
            "type": "surface"
           }
          ],
          "table": [
           {
            "cells": {
             "fill": {
              "color": "#EBF0F8"
             },
             "line": {
              "color": "white"
             }
            },
            "header": {
             "fill": {
              "color": "#C8D4E3"
             },
             "line": {
              "color": "white"
             }
            },
            "type": "table"
           }
          ]
         },
         "layout": {
          "annotationdefaults": {
           "arrowcolor": "#2a3f5f",
           "arrowhead": 0,
           "arrowwidth": 1
          },
          "autotypenumbers": "strict",
          "coloraxis": {
           "colorbar": {
            "outlinewidth": 0,
            "ticks": ""
           }
          },
          "colorscale": {
           "diverging": [
            [
             0,
             "#8e0152"
            ],
            [
             0.1,
             "#c51b7d"
            ],
            [
             0.2,
             "#de77ae"
            ],
            [
             0.3,
             "#f1b6da"
            ],
            [
             0.4,
             "#fde0ef"
            ],
            [
             0.5,
             "#f7f7f7"
            ],
            [
             0.6,
             "#e6f5d0"
            ],
            [
             0.7,
             "#b8e186"
            ],
            [
             0.8,
             "#7fbc41"
            ],
            [
             0.9,
             "#4d9221"
            ],
            [
             1,
             "#276419"
            ]
           ],
           "sequential": [
            [
             0,
             "#0d0887"
            ],
            [
             0.1111111111111111,
             "#46039f"
            ],
            [
             0.2222222222222222,
             "#7201a8"
            ],
            [
             0.3333333333333333,
             "#9c179e"
            ],
            [
             0.4444444444444444,
             "#bd3786"
            ],
            [
             0.5555555555555556,
             "#d8576b"
            ],
            [
             0.6666666666666666,
             "#ed7953"
            ],
            [
             0.7777777777777778,
             "#fb9f3a"
            ],
            [
             0.8888888888888888,
             "#fdca26"
            ],
            [
             1,
             "#f0f921"
            ]
           ],
           "sequentialminus": [
            [
             0,
             "#0d0887"
            ],
            [
             0.1111111111111111,
             "#46039f"
            ],
            [
             0.2222222222222222,
             "#7201a8"
            ],
            [
             0.3333333333333333,
             "#9c179e"
            ],
            [
             0.4444444444444444,
             "#bd3786"
            ],
            [
             0.5555555555555556,
             "#d8576b"
            ],
            [
             0.6666666666666666,
             "#ed7953"
            ],
            [
             0.7777777777777778,
             "#fb9f3a"
            ],
            [
             0.8888888888888888,
             "#fdca26"
            ],
            [
             1,
             "#f0f921"
            ]
           ]
          },
          "colorway": [
           "#636efa",
           "#EF553B",
           "#00cc96",
           "#ab63fa",
           "#FFA15A",
           "#19d3f3",
           "#FF6692",
           "#B6E880",
           "#FF97FF",
           "#FECB52"
          ],
          "font": {
           "color": "#2a3f5f"
          },
          "geo": {
           "bgcolor": "white",
           "lakecolor": "white",
           "landcolor": "#E5ECF6",
           "showlakes": true,
           "showland": true,
           "subunitcolor": "white"
          },
          "hoverlabel": {
           "align": "left"
          },
          "hovermode": "closest",
          "mapbox": {
           "style": "light"
          },
          "paper_bgcolor": "white",
          "plot_bgcolor": "#E5ECF6",
          "polar": {
           "angularaxis": {
            "gridcolor": "white",
            "linecolor": "white",
            "ticks": ""
           },
           "bgcolor": "#E5ECF6",
           "radialaxis": {
            "gridcolor": "white",
            "linecolor": "white",
            "ticks": ""
           }
          },
          "scene": {
           "xaxis": {
            "backgroundcolor": "#E5ECF6",
            "gridcolor": "white",
            "gridwidth": 2,
            "linecolor": "white",
            "showbackground": true,
            "ticks": "",
            "zerolinecolor": "white"
           },
           "yaxis": {
            "backgroundcolor": "#E5ECF6",
            "gridcolor": "white",
            "gridwidth": 2,
            "linecolor": "white",
            "showbackground": true,
            "ticks": "",
            "zerolinecolor": "white"
           },
           "zaxis": {
            "backgroundcolor": "#E5ECF6",
            "gridcolor": "white",
            "gridwidth": 2,
            "linecolor": "white",
            "showbackground": true,
            "ticks": "",
            "zerolinecolor": "white"
           }
          },
          "shapedefaults": {
           "line": {
            "color": "#2a3f5f"
           }
          },
          "ternary": {
           "aaxis": {
            "gridcolor": "white",
            "linecolor": "white",
            "ticks": ""
           },
           "baxis": {
            "gridcolor": "white",
            "linecolor": "white",
            "ticks": ""
           },
           "bgcolor": "#E5ECF6",
           "caxis": {
            "gridcolor": "white",
            "linecolor": "white",
            "ticks": ""
           }
          },
          "title": {
           "x": 0.05
          },
          "xaxis": {
           "automargin": true,
           "gridcolor": "white",
           "linecolor": "white",
           "ticks": "",
           "title": {
            "standoff": 15
           },
           "zerolinecolor": "white",
           "zerolinewidth": 2
          },
          "yaxis": {
           "automargin": true,
           "gridcolor": "white",
           "linecolor": "white",
           "ticks": "",
           "title": {
            "standoff": 15
           },
           "zerolinecolor": "white",
           "zerolinewidth": 2
          }
         }
        },
        "title": {
         "text": "Life expectancy in Canada"
        },
        "xaxis": {
         "anchor": "y",
         "domain": [
          0,
          1
         ],
         "title": {
          "text": "x"
         }
        },
        "yaxis": {
         "anchor": "x",
         "domain": [
          0,
          1
         ],
         "title": {
          "text": "y"
         }
        }
       }
      }
     },
     "metadata": {},
     "output_type": "display_data"
    }
   ],
   "source": [
    "fig = px.line(df, x=\"x\", y=\"y\", title='Life expectancy in Canada')\n",
    "fig.show()\n"
   ]
  },
  {
   "cell_type": "code",
   "execution_count": 54,
   "metadata": {},
   "outputs": [
    {
     "name": "stdout",
     "output_type": "stream",
     "text": [
      "Files already downloaded and verified\n",
      "Files already downloaded and verified\n"
     ]
    }
   ],
   "source": [
    "transform = SimCLRTransform(32)\n",
    "\n",
    "train_dataset_no_transform = CIFAR10('/data/input/datasets/CIFAR-10', train=True, download=True)#, transform=transform)\n",
    "train_dataset = CIFAR10('/data/input/datasets/CIFAR-10', train=True, download=True, transform=transform)\n"
   ]
  },
  {
   "cell_type": "code",
   "execution_count": 55,
   "metadata": {},
   "outputs": [],
   "source": [
    "train_loader = DataLoader(train_dataset, batch_size=256, shuffle=False, drop_last=True, num_workers= 4)\n"
   ]
  },
  {
   "cell_type": "code",
   "execution_count": 56,
   "metadata": {},
   "outputs": [
    {
     "data": {
      "text/plain": [
       "Dataset CIFAR10\n",
       "    Number of datapoints: 50000\n",
       "    Root location: /data/input/datasets/CIFAR-10\n",
       "    Split: Train"
      ]
     },
     "execution_count": 56,
     "metadata": {},
     "output_type": "execute_result"
    }
   ],
   "source": [
    "from PIL import Image\n",
    "\n",
    "train_dataset_no_transform"
   ]
  },
  {
   "cell_type": "code",
   "execution_count": 57,
   "metadata": {},
   "outputs": [],
   "source": [
    "label_to_word = {\n",
    "    0: \"Airplane\",\n",
    "    1: \"Autombile\",\n",
    "    2: \"Bird\",\n",
    "    3: \"Cat\",\n",
    "    4: \"Deer\",\n",
    "    5: \"Dog\",\n",
    "    6: \"Frog\",\n",
    "    7: \"Horse\",\n",
    "    8: \"Ship\",\n",
    "    9: \"Truck\"\n",
    "}\n"
   ]
  },
  {
   "cell_type": "code",
   "execution_count": 58,
   "metadata": {},
   "outputs": [],
   "source": [
    "# import numpy as np\n",
    "# for i, ((x1, y1), targets) in enumerate(train_loader):\n",
    "#     # print(targets)\n",
    "#     # print(x1[0:10].shape)#, y1)\n",
    "#     # print(targets[0:10].shape)  \n",
    "#     # print(y1[0:10].shape)\n",
    "#     images = x1[0:15]\n",
    "#     labels = targets[0:15]\n",
    "#     fig, axs = plt.subplots(1, 1)\n",
    "#     for i, ax in enumerate(np.reshape(axs, [-1])):\n",
    "\n",
    "#         ax.imshow(images[0].permute(1, 2, 0))\n",
    "#     # print(images[0].shape)\n",
    "#     # plot_15_img(label_to_word, images, labels)\n",
    "#     break"
   ]
  },
  {
   "cell_type": "code",
   "execution_count": 59,
   "metadata": {},
   "outputs": [],
   "source": [
    "def multi_acc(pred, label):\n",
    "  accs_per_label_pct = []\n",
    "  tags = torch.argmax(pred, dim=1)\n",
    "  for c in range(3):  # the three classes\n",
    "    of_c = label == c\n",
    "    num_total_per_label = of_c.sum()\n",
    "    of_c &= tags == label\n",
    "    num_corrects_per_label = of_c.sum()\n",
    "    accs_per_label_pct.append(num_corrects_per_label / num_total_per_label * 100)\n",
    "  return accs_per_label_pct"
   ]
  },
  {
   "cell_type": "code",
   "execution_count": 78,
   "metadata": {},
   "outputs": [],
   "source": [
    "from util.utils import save_checkpoint, log\n",
    "\n",
    "from datetime import datetime\n",
    "\n",
    "def train_one_epoch(train_loader, model, criteria, optimizer, scheduler):\n",
    "    \"\"\"\n",
    "    Train one epoch of SSL model\n",
    "    \"\"\"\n",
    "    loss_per_criterion = {}\n",
    "    total_loss = 0\n",
    "    for i, ((x1, y1), targets) in enumerate(train_loader):\n",
    "        x1 = x1.cuda(device=torch.device(\"cuda\"))\n",
    "        y1 = y1.cuda(device=torch.device(\"cuda\"))\n",
    "        optimizer.zero_grad()\n",
    "        print(targets)\n",
    "        break\n",
    "\n",
    "        _, _, zx, zy = model(x1, y1)\n",
    "\n",
    "\n",
    "        # nb_classes = 9\n",
    "\n",
    "        # confusion_matrix = torch.zeros(nb_classes, nb_classes)\n",
    "        # with torch.no_grad():\n",
    "        #     for i, (inputs, classes) in enumerate(dataloaders['val']):\n",
    "        #         inputs = inputs.to(args.device)\n",
    "        #         classes = classes.to(args.device)\n",
    "        #         outputs = model(inputs)\n",
    "        #         _, preds = torch.max(outputs, 1)\n",
    "        #         for t, p in zip(classes.view(-1), preds.view(-1)):\n",
    "        #                 confusion_matrix[t.long(), p.long()] += 1\n",
    "\n",
    "        # Multiple loss aggregation\n",
    "    \n",
    "        loss = torch.tensor(0).to(torch.device(\"cuda\"))\n",
    "        for k in criteria:\n",
    "            if k == 'ntxent':\n",
    "                criterion_loss = criteria[k][0](zx, zy)\n",
    "            elif k == 'simsiam':\n",
    "                criterion_loss = criteria[k][0](zx, zy, px, py)\n",
    "            if k not in loss_per_criterion:\n",
    "                loss_per_criterion[k] = criterion_loss\n",
    "            else:\n",
    "                loss_per_criterion[k] += criterion_loss\n",
    "            loss = torch.add(loss, torch.mul(criterion_loss, criteria[k][1]))\n",
    "        print(loss)\n",
    "        loss.backward()\n",
    "        # print(loss)\n",
    "        # print(targets)\n",
    "        optimizer.step()\n",
    "        if scheduler is not None:\n",
    "            scheduler.step()\n",
    "        if i % 50 == 0:\n",
    "            log(\"Batch {}/{}. Loss: {}.  Time elapsed: {} \".format(i, len(train_loader), loss.item(),\n",
    "                                                                   datetime.now() - datetime.now()))\n",
    "        total_loss += loss.item()\n",
    "    return total_loss, loss_per_criterion"
   ]
  },
  {
   "cell_type": "code",
   "execution_count": 79,
   "metadata": {},
   "outputs": [],
   "source": [
    "import torch.nn as nn\n",
    "import torchvision\n",
    "import torch\n",
    "import torch.nn.functional as F\n",
    "from models.helper import get_encoder\n",
    "\n",
    "\n",
    "class SimCLR(nn.Module):\n",
    "    def __init__(self, img_size, backbone='resnet50'):\n",
    "        super(SimCLR, self).__init__()\n",
    "        self.f, projection_size = get_encoder(backbone, img_size)\n",
    "        if img_size >= 100:\n",
    "            projection_size = self.f.fc.out_features\n",
    "\n",
    "        # projection head\n",
    "        self.g = nn.Sequential(\n",
    "                                nn.Linear(projection_size, 512, bias=False),\n",
    "                                nn.BatchNorm1d(512),\n",
    "                                nn.ReLU(inplace=True),\n",
    "                                nn.Linear(512, 128, bias=True)\n",
    "                               )\n",
    "\n",
    "    def forward(self, x, y=None):\n",
    "        x = self.f(x)\n",
    "        feat_x = torch.flatten(x, start_dim=1)\n",
    "        out_x = self.g(feat_x)\n",
    "\n",
    "        if y is not None:\n",
    "            y = self.f(y)\n",
    "            feat_y = torch.flatten(y, start_dim=1)\n",
    "            out_y = self.g(feat_y)\n",
    "            return F.normalize(feat_x, dim=-1), F.normalize(feat_y, dim=-1), F.normalize(out_x, dim=-1),  F.normalize(out_y, dim=-1)\n",
    "        else:\n",
    "            return F.normalize(feat_x, dim=-1), F.normalize(out_x, dim=-1)\n",
    "\n",
    "\n"
   ]
  },
  {
   "cell_type": "code",
   "execution_count": 80,
   "metadata": {},
   "outputs": [],
   "source": [
    "import torch\n",
    "import torch.nn as nn\n",
    "from util.utils import positive_mask\n",
    "from torch.optim import Adam, SGD\n",
    "\n",
    "\n",
    "class NTXent(nn.Module):\n",
    "    \"\"\"\n",
    "    The Normalized Temperature-scaled Cross Entropy Loss\n",
    "    Source: https://github.com/Spijkervet/SimCLR\n",
    "    \"\"\"\n",
    "\n",
    "    def __init__(self):\n",
    "        super(NTXent, self).__init__()\n",
    "        self.batch_size = 256\n",
    "        self.temperature = 0.5\n",
    "        self.device = torch.device('cuda')\n",
    "        self.mask = positive_mask(256)\n",
    "        self.criterion = nn.CrossEntropyLoss(reduction=\"sum\")\n",
    "        self.similarity_f = nn.CosineSimilarity(dim=2)\n",
    "        self.N = 2 * self.batch_size\n",
    "\n",
    "    def forward(self, zx, zy):\n",
    "        \"\"\"\n",
    "        zx: projection output of batch zx\n",
    "        zy: projection output of batch zy\n",
    "        :return: normalized loss\n",
    "        \"\"\"\n",
    "        positive_samples, negative_samples = self.sample_no_dict(zx, zy)\n",
    "        labels = torch.zeros(self.N).to(positive_samples.device).long()\n",
    "        logits = torch.cat((positive_samples, negative_samples), dim=1)\n",
    "        loss = self.criterion(logits, labels)\n",
    "        loss /= self.N\n",
    "        return loss\n",
    "\n",
    "    def sample_no_dict(self, zx, zy):\n",
    "        \"\"\"\n",
    "        Positive and Negative sampling without dictionary\n",
    "        \"\"\"\n",
    "        z = torch.cat((zx, zy), dim=0)\n",
    "        sim = self.similarity_f(z.unsqueeze(1), z.unsqueeze(0)) / self.temperature\n",
    "        # Since projections are already normalized using F.normalize,\n",
    "        # below function can be used instead of CosineSimilarity\n",
    "        # sim = torch.div(torch.matmul(z, z.T), self.temperature)\n",
    "\n",
    "        # Extract positive samples\n",
    "        sim_xy = torch.diag(sim, self.batch_size)\n",
    "        sim_yx = torch.diag(sim, -self.batch_size)\n",
    "        positive_samples = torch.cat((sim_xy, sim_yx), dim=0).reshape(self.N, 1)\n",
    "\n",
    "        # Extract negative samples\n",
    "        negative_samples = sim[self.mask].reshape(self.N, -1)\n",
    "        return positive_samples, negative_samples\n",
    "\n"
   ]
  },
  {
   "cell_type": "code",
   "execution_count": 81,
   "metadata": {},
   "outputs": [],
   "source": [
    "def get_criteria():\n",
    "    \"\"\"\n",
    "    Loss criterion / criteria selection for training\n",
    "    \"\"\"\n",
    "    criteria = {\n",
    "        'ntxent': [NTXent(), [1, 0][0]]\n",
    "    }\n",
    "\n",
    "    return criteria"
   ]
  },
  {
   "cell_type": "code",
   "execution_count": 82,
   "metadata": {},
   "outputs": [
    {
     "name": "stderr",
     "output_type": "stream",
     "text": [
      "c:\\Users\\Luctopikut\\bep\\BEP-DoGo\\util\\utils.py:36: UserWarning:\n",
      "\n",
      "masked_fill_ received a mask with dtype torch.uint8, this behavior is now deprecated,please use a mask with dtype torch.bool instead. (Triggered internally at C:\\cb\\pytorch_1000000000000\\work\\aten\\src\\ATen\\native\\TensorAdvancedIndexing.cpp:1773.)\n",
      "\n",
      "c:\\Users\\Luctopikut\\anaconda3\\envs\\main\\Lib\\site-packages\\torchvision\\models\\_utils.py:208: UserWarning:\n",
      "\n",
      "The parameter 'pretrained' is deprecated since 0.13 and may be removed in the future, please use 'weights' instead.\n",
      "\n",
      "c:\\Users\\Luctopikut\\anaconda3\\envs\\main\\Lib\\site-packages\\torchvision\\models\\_utils.py:223: UserWarning:\n",
      "\n",
      "Arguments other than a weight enum or `None` for 'weights' are deprecated since 0.13 and may be removed in the future. The current behavior is equivalent to passing `weights=None`.\n",
      "\n"
     ]
    },
    {
     "name": "stdout",
     "output_type": "stream",
     "text": [
      "tensor([6, 9, 9, 4, 1, 1, 2, 7, 8, 3, 4, 7, 7, 2, 9, 9, 9, 3, 2, 6, 4, 3, 6, 6,\n",
      "        2, 6, 3, 5, 4, 0, 0, 9, 1, 3, 4, 0, 3, 7, 3, 3, 5, 2, 2, 7, 1, 1, 1, 2,\n",
      "        2, 0, 9, 5, 7, 9, 2, 2, 5, 2, 4, 3, 1, 1, 8, 2, 1, 1, 4, 9, 7, 8, 5, 9,\n",
      "        6, 7, 3, 1, 9, 0, 3, 1, 3, 5, 4, 5, 7, 7, 4, 7, 9, 4, 2, 3, 8, 0, 1, 6,\n",
      "        1, 1, 4, 1, 8, 3, 9, 6, 6, 1, 8, 5, 2, 9, 9, 8, 1, 7, 7, 0, 0, 6, 9, 1,\n",
      "        2, 2, 9, 2, 6, 6, 1, 9, 5, 0, 4, 7, 6, 7, 1, 8, 1, 1, 2, 8, 1, 3, 3, 6,\n",
      "        2, 4, 9, 9, 5, 4, 3, 6, 7, 4, 6, 8, 5, 5, 4, 3, 1, 8, 4, 7, 6, 0, 9, 5,\n",
      "        1, 3, 8, 2, 7, 5, 3, 4, 1, 5, 7, 0, 4, 7, 5, 5, 1, 0, 9, 6, 9, 0, 8, 7,\n",
      "        8, 8, 2, 5, 2, 3, 5, 0, 6, 1, 9, 3, 6, 9, 1, 3, 9, 6, 6, 7, 1, 0, 9, 5,\n",
      "        8, 5, 2, 9, 0, 8, 8, 0, 6, 9, 1, 1, 6, 3, 7, 6, 6, 0, 6, 6, 1, 7, 1, 5,\n",
      "        8, 3, 6, 6, 8, 6, 8, 4, 6, 6, 1, 3, 8, 3, 4, 1])\n"
     ]
    },
    {
     "data": {
      "text/plain": [
       "(0, {})"
      ]
     },
     "execution_count": 82,
     "metadata": {},
     "output_type": "execute_result"
    }
   ],
   "source": [
    "from torch.optim.lr_scheduler import CosineAnnealingLR\n",
    "\n",
    "criterion = get_criteria()\n",
    "\n",
    "model = SimCLR(32, backbone='resnet18')\n",
    "\n",
    "optimizer = Adam(model.parameters(), lr=0.0003, weight_decay=1.e-6)\n",
    "scheduler = CosineAnnealingLR(optimizer, T_max=200, eta_min=3e-4)\n",
    "\n",
    "\n",
    "\n",
    "\n",
    "model = model.to(torch.device(\"cuda\"))\n",
    "train_one_epoch(train_loader, model, criterion, optimizer, scheduler)"
   ]
  },
  {
   "cell_type": "code",
   "execution_count": 65,
   "metadata": {},
   "outputs": [
    {
     "name": "stdout",
     "output_type": "stream",
     "text": [
      "70\n"
     ]
    }
   ],
   "source": [
    "tenso_list = [torch.randn(3,4), torch.randn(2,5), torch.randn(6,8)]\n",
    "comb_length =0\n",
    "for tensor in tenso_list:\n",
    "    comb_length += tensor.numel()\n",
    "\n",
    "print(comb_length)"
   ]
  },
  {
   "cell_type": "code",
   "execution_count": 66,
   "metadata": {},
   "outputs": [
    {
     "data": {
      "text/plain": [
       "[tensor([[-0.0881, -1.3074,  2.4725, -1.8907],\n",
       "         [-1.5868, -0.7737,  1.8130,  0.8007],\n",
       "         [-1.6190,  1.0749,  0.4468,  0.5375]]),\n",
       " tensor([[ 0.7416, -0.0590, -1.6293,  0.6872,  0.5081],\n",
       "         [ 0.1445,  0.7972,  0.2143, -0.6485,  0.2030]]),\n",
       " tensor([[ 0.3734,  0.1248,  0.0589,  1.0352,  0.7711,  1.7330, -0.6463,  0.4915],\n",
       "         [-0.0800, -0.7955,  0.1118,  2.4803, -1.4088,  0.0790,  0.0483, -0.1531],\n",
       "         [-1.1621,  0.5091, -0.9155, -0.0115, -0.3363,  0.5469, -1.3552,  0.1501],\n",
       "         [-1.5694,  0.4089, -1.0754,  0.3191, -0.7785,  0.7567,  1.3531, -0.2555],\n",
       "         [-0.1915, -0.0693, -0.5011, -1.2231, -0.9570, -0.9741,  0.8951, -2.2522],\n",
       "         [ 1.5183,  0.7539,  0.4763, -1.8063,  1.9374,  1.5906,  1.3596,  0.2508]])]"
      ]
     },
     "execution_count": 66,
     "metadata": {},
     "output_type": "execute_result"
    }
   ],
   "source": [
    "tenso_list"
   ]
  },
  {
   "cell_type": "code",
   "execution_count": 67,
   "metadata": {},
   "outputs": [
    {
     "name": "stdout",
     "output_type": "stream",
     "text": [
      "[102.0, 96.6666030883789, 130.0]\n"
     ]
    }
   ],
   "source": [
    "import torch._tensor as tensor\n",
    "torch_list = [torch.tensor(50., device='cuda:0'), torch.tensor(33.3333, device='cuda:0'), torch.tensor(50., device='cpu')]\n",
    "torch_list2 = [torch.tensor(52., device='cuda:0'), torch.tensor(63.3333, device='cpu'), torch.tensor(80., device='cuda:0')]\n",
    "n = len(torch_list)\n",
    "new_list =[torch.empty(()) for _ in range(n)]\n",
    "for i in range(len(torch_list)):\n",
    "    # print(new_list[i])\n",
    "    new_list[i] = torch_list[i].item()\n",
    "    new_list[i] += torch_list2[i].item()\n",
    "print(new_list)"
   ]
  },
  {
   "cell_type": "code",
   "execution_count": 68,
   "metadata": {},
   "outputs": [
    {
     "data": {
      "text/plain": [
       "tensor(50., device='cuda:0')"
      ]
     },
     "execution_count": 68,
     "metadata": {},
     "output_type": "execute_result"
    }
   ],
   "source": [
    "torch.tensor(50., device='cuda:0')"
   ]
  },
  {
   "cell_type": "code",
   "execution_count": 69,
   "metadata": {},
   "outputs": [
    {
     "name": "stdout",
     "output_type": "stream",
     "text": [
      "3\n"
     ]
    }
   ],
   "source": [
    "print(len(torch_list))"
   ]
  },
  {
   "cell_type": "code",
   "execution_count": 70,
   "metadata": {},
   "outputs": [
    {
     "data": {
      "text/plain": [
       "50.0"
      ]
     },
     "execution_count": 70,
     "metadata": {},
     "output_type": "execute_result"
    }
   ],
   "source": [
    "torch_list[0].item()"
   ]
  },
  {
   "cell_type": "code",
   "execution_count": 71,
   "metadata": {},
   "outputs": [],
   "source": [
    "import torch\n",
    "import torch.utils.data as data\n",
    "\n",
    "class ClassProbabilitySampler(data.Sampler):\n",
    "    def __init__(self, dataset, class_probabilities):\n",
    "        self.dataset = dataset\n",
    "        self.class_probabilities = class_probabilities\n",
    "\n",
    "    def __iter__(self):\n",
    "        indices = []\n",
    "        num_samples = len(self.dataset)\n",
    "\n",
    "        # Generate indices based on class probabilities\n",
    "        for class_idx, class_prob in enumerate(self.class_probabilities):\n",
    "            class_indices = [idx for idx in range(num_samples) if self.dataset[idx][1] == class_idx]\n",
    "            num_class_samples = int(class_prob * num_samples)\n",
    "            sampled_indices = torch.randperm(len(class_indices))[:num_class_samples]\n",
    "            indices.extend([class_indices[idx] for idx in sampled_indices])\n",
    "\n",
    "        return iter(indices)\n",
    "\n",
    "    def __len__(self):\n",
    "        return len(self.dataset)\n",
    "    "
   ]
  },
  {
   "cell_type": "code",
   "execution_count": 72,
   "metadata": {},
   "outputs": [
    {
     "ename": "NameError",
     "evalue": "name 'x1' is not defined",
     "output_type": "error",
     "traceback": [
      "\u001b[1;31m---------------------------------------------------------------------------\u001b[0m",
      "\u001b[1;31mNameError\u001b[0m                                 Traceback (most recent call last)",
      "Cell \u001b[1;32mIn[72], line 1\u001b[0m\n\u001b[1;32m----> 1\u001b[0m x1\n",
      "\u001b[1;31mNameError\u001b[0m: name 'x1' is not defined"
     ]
    }
   ],
   "source": [
    "x1"
   ]
  },
  {
   "cell_type": "code",
   "execution_count": 74,
   "metadata": {},
   "outputs": [
    {
     "name": "stdout",
     "output_type": "stream",
     "text": [
      "{'1': [[80.68039927328786, 91.62838056010585, 55.532934176537296, 58.24015367569462, nan, 67.629015744117, 81.76246022870464, 78.72601660451582, 91.94394142396989, 92.04803843344412], 9984], '2': [[82.77000491234564, 92.81375968686996, 62.5094970210906, 56.31542250110257, nan, 69.72877593501921, 79.70941838910502, 80.19354910081432, 90.55758947557018, 92.20395229708764], 9984], '3': [[85.47048886206842, 94.1914304671749, 55.405717529789094, 56.01712397913779, nan, 72.95834370274697, 82.81795324510144, 82.03712286180065, 91.24038514168032, 89.74437976960213], 9984], '4': [[86.1824704077936, 94.06695994715537, 61.008938450967115, 60.56403772907873, nan, 66.49265892274919, 82.74841151083669, 81.48927110241306, 91.20198260891821, 91.95203219998267], 9984], '5': [[86.93006168488533, 94.70963080621534, 60.73267341121551, 59.736616048505226, nan, 69.07649277717836, 84.90835017542685, 81.32081224995275, 91.61468102239793, 89.33142535301947], 9984], '6': [[86.04834104968656, 95.98433641003024, 59.403948580834175, 63.65034557465584, nan, 65.84855233469317, 85.31876779371693, 83.2084210795741, 91.2250241187311, 89.66911084575038], 9984], '7': [[83.75210677116148, 94.14097186673072, 66.12370356898154, 58.515115368750784, nan, 72.2170292269799, 87.0993777121267, 80.8863525882844, 91.30822940949471, 92.76206800399288], 9984], '8': [[85.54245273220924, 93.95687275548136, 59.564750289916994, 64.01676772332961, nan, 66.81526275142546, 84.04224683700069, 82.21510090981761, 91.89117864793347, 91.03651770314863], 9984], '9': [[86.29232480449062, 93.54212616951234, 64.95470939144012, 59.28734673530825, nan, 73.06362902733588, 84.75353903001354, 79.81389999389648, 90.42881322060862, 93.28715763707315], 9984], '10': [[83.97128000567037, 93.50269962433846, 65.49234379183862, 62.181425832932995, nan, 68.80221306585497, 84.70686529836347, 80.70355711906187, 93.56887748472153, 92.03805372176632], 9984], '11': [[85.8225347703503, 95.11206517373363, 65.18312251183295, 57.71121674814532, nan, 71.64506550450479, 87.53456622708228, 81.99085388183593, 92.17458889868952, 91.31913646574944], 9984], '12': [[85.31587822206559, 94.93387780958606, 64.23635086551789, 62.057467208370085, nan, 68.48528107673891, 83.66389396421371, 86.14911836193454, 92.89629905454574, 90.63813287058184], 9984], '13': [[85.51145145047096, 95.07366288708103, 68.53132811515562, 64.42772060517342, nan, 64.66863528836159, 84.64758756083828, 84.26507063834897, 91.2429452219317, 91.55467147827149], 9984], '14': [[84.36424211071383, 95.85400075604839, 65.3858875889932, 64.4771246633222, nan, 66.09131831507528, 81.53440532069052, 84.97807612265309, 91.71068725585937, 91.58692956739857], 9984], '15': [[86.27056328558153, 95.66582868022303, 63.056115193520824, 61.59745233597294, nan, 69.05369100263042, 88.16492503996818, 83.50493466777186, 92.09518442461568, 90.34012982768397], 9984], '16': [[82.88905236028856, 95.59593633836316, 65.81930021470593, 68.1415406996204, nan, 63.373657964891, 85.70511971750567, 84.816553226594, 91.69891047323904, 92.03854244601342], 9984], '17': [[84.94795950612715, 94.86268212103074, 65.61937434288764, 55.412492001441215, nan, 69.72750293362525, 88.65321091682681, 85.98091563563193, 91.2608664235761, 92.41309437905589], 9984], '18': [[89.59393522201046, 94.44048776934224, 64.58478904231902, 56.581486166677166, nan, 73.51344092584425, 86.1554452219317, 82.75375939646075, 90.80387711063509, 92.98017068678332], 9984], '19': [[85.74545051820816, 94.44537530714466, 66.0387527096656, 61.20651531834756, nan, 68.77770540791172, 88.60426527454007, 84.00137375862367, 92.35175220120338, 92.23925931376796], 9984], '20': [[88.34813613891602, 94.6181864092427, 65.7166608502788, 62.514247008292905, nan, 70.88235333350397, 84.79501377228767, 83.28604086599043, 91.66281201762538, 91.6632224052183], 9984], '21': [[87.22115212717364, 94.7592281218498, 63.479310386411605, 61.65144860052293, nan, 68.3347898913968, 84.94913556498867, 84.09609977968277, 91.20710291708669, 92.52599760486234], 9984], '22': [[86.10796966552735, 95.21959208826866, 68.37310991594869, 58.76458446133521, nan, 70.20879767633254, 87.41506913708102, 81.90788121377268, 91.55272512128276, 92.36829157183247], 9984], '23': [[86.51454708960749, 95.73495320966167, 67.75431859416346, 60.535519901398686, nan, 71.04827528922789, 86.38332317721459, 84.20769970801568, 91.5476047638924, 91.2592286632907], 9984], '24': [[88.47565568493259, 95.53679661904611, 65.5082866791756, 61.83349944083921, nan, 72.35677490234374, 84.07663168138073, 83.81471454251196, 90.32000614289315, 92.03675027662707], 9984], '25': [[87.26339478031281, 95.12742619668283, 64.10170941506662, 68.45696898429624, nan, 64.19955057944021, 88.26837894070533, 82.11627859300182, 91.96491147933467, 91.47146613828598], 9984], '26': [[88.226272484564, 93.33014467300907, 64.09530896832867, 60.39848114752, nan, 70.87646506524855, 89.43019738966419, 82.41532902871408, 90.98564876433342, 93.48196280694776], 9984], '27': [[86.38449057302168, 94.06619169173702, 65.13962314974877, 63.180920926986204, nan, 69.00780147429435, 87.3799554640247, 84.02031907112368, 91.2455054006269, 93.14146100936398], 9984], '28': [[85.21654397287676, 95.77335559475806, 69.7612308625252, 66.26109334884151, nan, 64.09359933176349, 86.13112367199314, 86.42917711811681, 91.96491147933467, 90.7791979389806], 9984], '29': [[85.83533546693863, 96.41314067225302, 68.10992528853878, 62.28231966572423, nan, 70.21007754418157, 87.31208796347342, 85.30626602172852, 90.41217203447896, 91.55211137340915], 9984], '30': [[87.50407355523879, 95.90238785282259, 69.54156895299111, 65.20370637216875, nan, 67.86803271385931, 86.96550440634451, 85.16212879303963, 91.32359038322203, 91.07745696037047], 9984], '31': [[86.18994143086096, 95.09158394105972, 68.75687858827652, 57.1767708809145, nan, 71.48732009395476, 86.6831183894988, 87.35981974447927, 91.14437895744078, 92.31196793586977], 9984], '32': [[87.46464678856634, 95.46613587410219, 65.48470989350349, 65.27156671093356, nan, 67.04670890069777, 88.00465877902123, 86.70877021051223, 92.56446247716104, 90.60254669189453], 9984], '33': [[89.1438350308326, 96.0099148658014, 66.94172263606902, 63.42180904265373, nan, 71.1086325122464, 85.96266496719852, 86.0628176781439, 90.03966817548198, 91.42410312775642], 9984], '34': [[86.94260623070501, 96.06367827384703, 66.73025285044024, 68.51869231193297, nan, 65.40694732666016, 87.42987867786039, 83.16799385316911, 91.80746144940777, 90.93408783943423], 9984], '35': [[86.53374828215568, 95.77335569320186, 67.43990711089103, 64.78537557048182, nan, 71.69086030529391, 87.30957432408486, 81.58758158529959, 91.37991406840663, 91.93203964233399], 9984], '36': [[86.5027701839324, 95.59414411975492, 70.81320222423922, 66.72495547879127, nan, 69.79554066811839, 85.2954863517515, 81.65693871282762, 92.22758439587008, 91.2502680132466], 9984], '37': [[84.38500270228232, 95.46511181246849, 67.75787954022807, 62.44719399482973, nan, 69.38520894204417, 89.54792561684886, 85.27479905159242, 91.49998577487084, 91.80121526410502], 9984], '38': [[87.44363041539346, 95.90238795126638, 69.34466908362604, 59.6719297962804, nan, 71.64829903879473, 88.91889335878433, 84.2340693566107, 90.96516743321573, 91.74386761573054], 9984], '39': [[86.63794668874434, 93.37902049403037, 66.1165817383797, 62.503750376547536, nan, 69.87264807916456, 88.36408253331338, 82.91148883450415, 92.67791713591545, 93.50628443071919], 9984], '40': [[84.93899868380639, 93.03416659447454, 73.04720111969979, 65.4748043429467, nan, 68.18419684133222, 87.22280088855375, 84.29984236686461, 91.38887466922883, 93.58692959200951], 9984], '41': [[86.80074982181672, 94.74619455645161, 68.09917264138498, 64.40497467287125, nan, 69.74892944828156, 87.29422949514081, 85.92328860375189, 92.42755643783077, 92.05108723794261], 9984], '42': [[86.55625435613817, 95.11206537062122, 66.68058575045679, 59.2804807847546, nan, 73.77607444024855, 89.22050392396989, 85.88716706306704, 91.61777663692351, 92.65759004162204], 9984], '43': [[87.91574771019721, 95.59414407053302, 64.70972505384876, 69.60187424690493, nan, 63.70883889967396, 89.22229599491243, 82.45422026111234, 91.86634521484375, 91.68651996735603], 9984], '44': [[88.7178470734627, 95.84862444477696, 66.5796919422765, 64.40335272512128, nan, 70.64091393255418, 88.7576029869818, 82.08194917248142, 91.63977075392201, 91.57899312665386], 9984], '45': [[87.08059899114794, 94.36393890380859, 67.65780035449613, 68.73498666824833, nan, 65.46021482406124, 86.60911358248804, 86.4120005699896, 92.08139894547001, 92.34678612985918], 9984], '46': [[83.84888123543031, 96.18554195280998, 68.49650989655525, 62.23518938864431, nan, 70.66111585555538, 86.95089527253182, 85.0454083350397, 92.93574893090033, 91.75282816733083], 9984], '47': [[88.8333104041315, 94.90699615478516, 65.7056753589261, 60.912561945761404, nan, 73.48754395515688, 88.10243367841167, 82.21635774181735, 92.0540285172001, 91.65861417708858], 9984], '48': [[86.69299045685798, 97.1066891577936, 65.1119734487226, 52.4894221028974, nan, 77.3665410441737, 90.16366820796844, 82.28422529159053, 92.95290202479208, 90.81504019460371], 9984], '49': [[85.75904255528604, 95.12868317634829, 64.52436924595986, 68.73602705924742, nan, 65.82017384190713, 87.69283085484659, 85.91074368876795, 92.80259714434224, 92.61713955786921], 9984], '50': [[86.72548119329637, 95.16273336102886, 68.11837385854413, 60.58237067191831, nan, 72.9563099768854, 88.56866292645854, 84.65798583492156, 91.60751268940587, 92.34781024071478], 9984], '51': [[88.15381959484469, 94.17241530879852, 65.68901112464167, 62.35679691683862, nan, 69.5338129843435, 87.51617950931671, 88.27610229984407, 91.93114067815965, 92.60408263667938], 9984], '52': [[86.39370717694682, 94.26946893507434, 66.6626645857288, 63.73389301915323, nan, 72.33470210413779, 89.48878577447707, 81.93320359260805, 92.70072587536227, 93.35395465973885], 9984], '53': [[87.72576028147051, 92.93636829007056, 71.02827928604619, 61.30550781988328, nan, 72.65245794480846, 87.4920674477854, 85.16771456810736, 91.69458150556011, 93.21954599195911], 9984], '54': [[87.9251739009734, 96.05113348191784, 67.61837387084961, 59.19492486523044, nan, 73.89488921626922, 88.28806890672253, 84.98342925040953, 91.02740276705835, 92.61278723439862], 9984], '55': [[88.03835619034305, 95.20932833763861, 68.13424687539377, 63.037528425647366, nan, 71.88746480634136, 87.50053925052765, 83.40171351278981, 91.83897478657384, 92.03956650764711], 9984], '56': [[85.89012273973034, 93.0807615710843, 68.93988386584867, 70.55291250905682, nan, 66.06252643216041, 86.19355230023784, 86.75482977590254, 92.38324230563256, 93.31811235489384], 9984], '57': [[85.92852522327054, 94.72643496605657, 65.18719572251842, 63.34504342848255, nan, 72.47730321576519, 86.97653643700384, 85.72843677151587, 93.01178579022807, 92.4110463542323], 9984], '58': [[84.0327007908975, 96.05113348191784, 69.98473336004442, 60.2737545874811, nan, 71.85723168157762, 90.34157643471995, 83.33233307869203, 92.45648626512097, 92.46865007954258], 9984], '59': [[83.87422684700259, 95.4656007336032, 75.35933163550592, 62.13299922327842, nan, 71.39855233469316, 87.21848799182523, 84.71121397941343, 92.55940487769342, 92.74975603165166], 9984], '60': [[87.68861477759576, 96.09952057869204, 68.5666119729319, 65.22521160494897, nan, 73.34547815630513, 87.71766441099105, 80.60112708307082, 91.06731808570123, 92.02702178955079], 9984], '61': [[86.85276779667024, 96.6819579093687, 66.51724726769233, 65.17445073281566, nan, 69.96983216808688, 87.41479703841671, 84.42680309664819, 92.59806331511467, 90.99425166960685], 9984], '62': [[84.40418051442792, 95.20932828841671, 71.83058789160944, 71.10392940890405, nan, 62.9230459397839, 86.6915669348932, 86.61295006044449, 93.12008071407195, 92.08436946253623], 9984], '63': [[86.62924211563603, 94.68651974585748, 70.88593420213269, 63.217042393838206, nan, 71.35390341974073, 88.45624844951014, 85.4910632225775, 92.6676998015373, 92.3915890355264], 9984], '64': [[88.1238890371015, 96.2672113726216, 66.89482489555112, 68.62464360883159, nan, 67.87158466462166, 89.33901620680287, 82.15412245719664, 92.21758358863092, 89.6096919890373], 9984], '65': [[89.21014325541834, 93.92817589544481, 63.82798134588426, 69.9239034837292, nan, 66.76923370361328, 88.6040164332236, 82.0555793762207, 91.29542866368448, 92.52702166649603], 9984], '66': [[89.94698161463583, 96.3145744077621, 68.0453858406313, 64.63199138026084, nan, 66.10843210527973, 86.88507589524792, 83.30749949793662, 90.64747447352255, 91.48170687767767], 9984], '67': [[90.17865315098916, 95.44821486934539, 67.88251288629347, 70.98048304896201, nan, 65.81726285872921, 86.93115879181893, 83.36203103834583, 90.81539798859627, 91.70290500271705], 9984], '68': [[86.65714790590347, 95.06619193784653, 67.35186068627142, 62.55591494652533, nan, 71.49115140361171, 90.29933365852602, 83.35025428033644, 92.45187806160219, 92.64350923107516], 9984], '69': [[86.22215280840474, 95.48710607713268, 66.68640433280699, 69.29740827006678, nan, 67.81630118585402, 88.41735719250094, 84.55176226708197, 93.1845968431042, 91.62661216489731], 9984], '70': [[87.56244487147177, 96.57443099483368, 64.59372641040433, 73.09340955672725, nan, 65.73253744802167, 85.54915916688981, 84.3000981976909, 93.53094767908897, 90.83040116833102], 9984], '71': [[85.23318496211883, 93.4970443233367, 70.03486593923262, 69.63153282903856, nan, 67.80239038775044, 86.87562661940052, 84.22943779730028, 91.90169884466356, 93.23746719360352], 9984], '72': [[91.19196602606004, 93.98682693973664, 66.71919772240423, 66.43486593923261, nan, 67.46270331105879, 89.6603401184082, 85.50081513927829, 90.12161705263199, 92.63454858103105], 9984], '73': [[88.8780898801742, 94.24538022933467, 64.85537514225129, 66.27485565677766, nan, 70.83903112103862, 88.46623306274414, 86.4347627701298, 92.1408180975145, 92.94535246818296], 9984], '74': [[86.91393248035062, 96.41314077069683, 68.75995094545426, 61.91075375464655, nan, 72.49778464532667, 89.05611810991842, 83.75143193890972, 92.19483750866306, 90.79455886348602], 9984], '75': [[87.87629798150832, 96.95691956550844, 64.48238250978531, 71.72141780237997, nan, 68.0144183989494, 86.5115246680475, 85.22662141861454, 91.81951756631175, 90.63966896303238], 9984], '76': [[87.32839968281408, 92.87646056144469, 70.74049352830455, 65.14989641251103, nan, 68.43692437448809, 88.74429016113281, 83.73888712236958, 91.44214945147114, 93.6353166887837], 9984], '77': [[89.6341062976468, 95.2103523500504, 66.07196507607738, 62.57052438797489, nan, 70.53571437712638, 89.11753877209078, 84.29472191103044, 92.74757700274067, 91.29251078944053], 9984], '78': [[87.00763439055412, 95.11125079739479, 68.58734911026494, 74.78058068060106, nan, 62.39396209716797, 86.11497866722846, 82.88507247432585, 92.18690111714025, 91.79148672780683], 9984], '79': [[86.61974639892578, 96.10489698840726, 72.09430812712638, 65.58174940539945, nan, 68.43122204196068, 88.51003521334741, 84.38020799698369, 91.49335268082157, 91.58283332086378], 9984], '80': [[90.54347649851152, 94.58716214087701, 69.31802001460906, 65.95076220112462, nan, 70.43356392152847, 86.57632010675246, 84.75808833952873, 90.40195482315556, 93.09768221455235], 9984], '81': [[87.83815155029296, 94.03928700108682, 70.53977685743763, 59.61876432357296, nan, 73.26255197832661, 88.24377815492691, 84.54019512053459, 93.11752058459867, 92.17397507698306], 9984], '82': [[87.275939572242, 93.97169868715348, 63.3456000420355, 66.29200889833511, nan, 70.82804572812972, 89.53563680341166, 84.19897175450478, 91.43062872117565, 93.69522449124244], 9984], '83': [[86.434925916118, 96.79306906423261, 68.32672461232832, 69.30585679085024, nan, 69.01621056833575, 87.41479703841671, 84.2752413841986, 92.19765373968309, 91.7198021181168], 9984], '84': [[86.0488531789472, 94.65963789416898, 70.08867588658487, 67.62892638175718, nan, 63.75695399622764, 90.34336850566248, 82.38300101987777, 93.5645251858619, 91.6839598132718], 9984], '85': [[88.10389660250756, 94.26690880560106, 68.10403700797788, 62.558964021744266, nan, 70.01952268538936, 90.2071677669402, 85.30777868455456, 92.26370598577684, 92.74463562503938], 9984], '86': [[89.05064490533644, 95.86345027800529, 64.40015469212686, 74.40142042098506, nan, 62.38799497542843, 88.65391643893334, 86.8858868014428, 91.92704448084677, 91.47812268657069], 9984], '87': [[87.26902714390908, 95.5802960795741, 70.89868848246913, 67.78130261821131, nan, 69.23621469313099, 86.58551340410786, 81.17357970206969, 93.12772187263735, 91.57028857815651], 9984], '88': [[87.77005120554279, 95.17755894814768, 70.05692985288559, 68.3987673113423, nan, 66.52157998854115, 86.87739535916236, 86.43655481646138, 92.61316828573904, 92.15605402300434], 9984], '89': [[85.8409677320911, 94.7886701522335, 68.53772868494833, 66.98602245699975, nan, 68.89827292657668, 88.99877051076581, 85.3853283297631, 92.80825278989731, 92.37725217265468], 9984], '90': [[85.96641565138295, 94.44996047481413, 69.47600550497732, 60.90648724955897, nan, 74.65199949202999, 89.69923130158455, 85.52027226109658, 92.65157076927923, 92.31990447505828], 9984], '91': [[87.47793648012222, 94.68651964741369, 71.4681154804845, 64.6061568352484, nan, 72.51700894755702, 89.43502236643145, 86.53076895436934, 92.32284570509388, 92.84320198797411], 9984], '92': [[85.7557143180601, 95.28508591190462, 70.99469454365392, 67.55928984611265, nan, 66.15961229878087, 86.89196501701109, 87.05131990986486, 92.80210837087324, 91.66245446974231], 9984], '93': [[86.09312067339498, 93.84266642908896, 72.02802320911039, 63.71366777727681, nan, 72.9617327044087, 88.07634333948936, 83.52383331791047, 92.07758208244077, 93.52778977424867], 9984], '94': [[88.57727072931105, 94.11097156155493, 70.27859337099137, 68.12869329144878, nan, 65.84392776489258, 87.74989924277028, 87.39072782454951, 92.22683961929813, 92.7599966479886], 9984], '95': [[85.44235027682397, 94.61125079739479, 68.29011437200731, 69.95462548040575, nan, 65.31938961398217, 88.77219597601122, 85.63368746849798, 92.80825278989731, 92.53495820568453], 9984], '96': [[86.99944187287362, 94.57948160479145, 67.02229796378843, 67.04392892160723, nan, 71.46964608469317, 88.73993791149509, 83.45470893613754, 92.20738234981414, 92.92103094285534], 9984], '97': [[87.57189454109438, 95.67935121597782, 66.91274619563933, 63.66348121396957, nan, 72.36598279399257, 88.83568796957692, 84.39840858213363, 91.85177563082787, 92.37213188909715], 9984], '98': [[89.08751141948085, 94.40667055191533, 67.24684748495778, 60.683489928707, nan, 73.51544974542433, 87.83822486631333, 87.14497550226027, 91.07118170953567, 92.59230590328093], 9984], '99': [[88.55474134875882, 95.1929200203188, 69.55665049399099, 66.7211153584142, nan, 71.25459242789977, 86.75450747090001, 83.62621661770729, 92.58628668016003, 91.37315595073085], 9984], '100': [[87.76083445395193, 94.71389027257119, 65.17488366403887, 67.81681907407699, nan, 69.73850260088521, 90.82495860438193, 85.10910991545646, 91.72888779178743, 92.60766692623015], 9984]}\n"
     ]
    }
   ],
   "source": [
    "import json\n",
    "\n",
    "# Open the text file in read mode\n",
    "with open('convert.txt', 'r') as file:\n",
    "    # Read the contents of the file\n",
    "    content = file.read()\n",
    "\n",
    "    # Parse the content as a dictionary\n",
    "    dictionary = json.loads(content)\n",
    "\n",
    "# Print the dictionary\n",
    "print(dictionary)"
   ]
  },
  {
   "cell_type": "code",
   "execution_count": 84,
   "metadata": {},
   "outputs": [],
   "source": [
    "dictionary['1'][0][4] = 0"
   ]
  },
  {
   "cell_type": "code",
   "execution_count": 85,
   "metadata": {},
   "outputs": [
    {
     "data": {
      "text/plain": [
       "[80.68039927328786,\n",
       " 91.62838056010585,\n",
       " 55.532934176537296,\n",
       " 58.24015367569462,\n",
       " 0,\n",
       " 67.629015744117,\n",
       " 81.76246022870464,\n",
       " 78.72601660451582,\n",
       " 91.94394142396989,\n",
       " 92.04803843344412]"
      ]
     },
     "execution_count": 85,
     "metadata": {},
     "output_type": "execute_result"
    }
   ],
   "source": [
    "dictionary['1'][0]"
   ]
  },
  {
   "cell_type": "code",
   "execution_count": null,
   "metadata": {},
   "outputs": [],
   "source": []
  }
 ],
 "metadata": {
  "kernelspec": {
   "display_name": "main",
   "language": "python",
   "name": "python3"
  },
  "language_info": {
   "codemirror_mode": {
    "name": "ipython",
    "version": 3
   },
   "file_extension": ".py",
   "mimetype": "text/x-python",
   "name": "python",
   "nbconvert_exporter": "python",
   "pygments_lexer": "ipython3",
   "version": "3.11.3"
  },
  "orig_nbformat": 4
 },
 "nbformat": 4,
 "nbformat_minor": 2
}
